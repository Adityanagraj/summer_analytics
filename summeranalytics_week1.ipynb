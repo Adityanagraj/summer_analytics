{
  "nbformat": 4,
  "nbformat_minor": 0,
  "metadata": {
    "colab": {
      "name": "summeranalytics week1.ipynb",
      "provenance": [],
      "collapsed_sections": []
    },
    "kernelspec": {
      "name": "python3",
      "display_name": "Python 3"
    }
  },
  "cells": [
    {
      "cell_type": "code",
      "metadata": {
        "id": "PW25wDdSuiOX",
        "colab_type": "code",
        "colab": {}
      },
      "source": [
        "import requests\n",
        "req = requests.get(\"https://en.wikipedia.org/wiki/Harvard_University\")"
      ],
      "execution_count": 0,
      "outputs": []
    },
    {
      "cell_type": "code",
      "metadata": {
        "id": "mm7WH27gusvm",
        "colab_type": "code",
        "colab": {}
      },
      "source": [
        "page = req.text\n",
        "from bs4 import BeautifulSoup\n",
        "soup=BeautifulSoup(page,'html.parser')"
      ],
      "execution_count": 0,
      "outputs": []
    },
    {
      "cell_type": "code",
      "metadata": {
        "id": "JTnwbuedu8qu",
        "colab_type": "code",
        "colab": {}
      },
      "source": [
        "1.How many 'p' tags are present in the webpage ? \n",
        "\n",
        "67\n",
        "85\n",
        "12\n",
        "48"
      ],
      "execution_count": 0,
      "outputs": []
    },
    {
      "cell_type": "code",
      "metadata": {
        "id": "H_O0QZFlu8t7",
        "colab_type": "code",
        "outputId": "3ee72403-21bf-4997-ff5c-f4a95a75b82c",
        "colab": {
          "base_uri": "https://localhost:8080/",
          "height": 34
        }
      },
      "source": [
        "count=0\n",
        "x=soup.find_all('p')\n",
        "for i in x:\n",
        "  count+=1\n",
        "print(count)\n",
        "#85"
      ],
      "execution_count": 0,
      "outputs": [
        {
          "output_type": "stream",
          "text": [
            "85\n"
          ],
          "name": "stdout"
        }
      ]
    },
    {
      "cell_type": "code",
      "metadata": {
        "id": "vgo5afHau8wR",
        "colab_type": "code",
        "colab": {}
      },
      "source": [
        "2.How many 'table' tags are present in the webpage ? \n",
        "\n",
        "27\n",
        "19\n",
        "15\n",
        "36"
      ],
      "execution_count": 0,
      "outputs": []
    },
    {
      "cell_type": "code",
      "metadata": {
        "id": "BgI3aE9NvcPl",
        "colab_type": "code",
        "outputId": "06d700d7-cb96-4bdd-a1a0-52c810c24a5b",
        "colab": {
          "base_uri": "https://localhost:8080/",
          "height": 34
        }
      },
      "source": [
        "count=0\n",
        "x=soup.find_all('table')\n",
        "for i in x:\n",
        "  count+=1\n",
        "print(count)\n",
        "#27"
      ],
      "execution_count": 0,
      "outputs": [
        {
          "output_type": "stream",
          "text": [
            "27\n"
          ],
          "name": "stdout"
        }
      ]
    },
    {
      "cell_type": "code",
      "metadata": {
        "id": "Fh7D8V7YvcSd",
        "colab_type": "code",
        "colab": {}
      },
      "source": [
        "3.What is the text associated with the h1 tag? \n",
        "\n",
        "'Harvard University'\n",
        "'Wikipedia'\n",
        "'Harvard'\n",
        "'History'\n",
        "#'Harvard University'"
      ],
      "execution_count": 0,
      "outputs": []
    },
    {
      "cell_type": "code",
      "metadata": {
        "id": "Ryxdhp5mvcUr",
        "colab_type": "code",
        "outputId": "29d6c3fe-60db-4843-8d70-3747ce2c4ae8",
        "colab": {
          "base_uri": "https://localhost:8080/",
          "height": 34
        }
      },
      "source": [
        "soup.find('h1').text"
      ],
      "execution_count": 0,
      "outputs": [
        {
          "output_type": "execute_result",
          "data": {
            "text/plain": [
              "'Harvard University'"
            ]
          },
          "metadata": {
            "tags": []
          },
          "execution_count": 12
        }
      ]
    },
    {
      "cell_type": "code",
      "metadata": {
        "id": "YIaJag_EvceD",
        "colab_type": "code",
        "colab": {}
      },
      "source": [
        "4 Of all the h3 tags find the text associated with the 4th h3 tag from the output(Hint: You will get a list of tags as output once you use soup.find_all()) \n",
        "\n",
        "'Cambridge'\n",
        "'21st century'\n",
        "'20th century'\n",
        "'Colonial'\n",
        "#'Cambridge'"
      ],
      "execution_count": 0,
      "outputs": []
    },
    {
      "cell_type": "code",
      "metadata": {
        "id": "LxKHElijvcbx",
        "colab_type": "code",
        "outputId": "e1a4b010-6801-4e15-c65f-b1ee167f3b88",
        "colab": {
          "base_uri": "https://localhost:8080/",
          "height": 34
        }
      },
      "source": [
        "count=0\n",
        "x=soup.find_all('h3')\n",
        "x[4]\n",
        "#OR\n",
        "for i in (x):\n",
        "  print((i.prettify))"
      ],
      "execution_count": 0,
      "outputs": [
        {
          "output_type": "execute_result",
          "data": {
            "text/plain": [
              "<h3><span class=\"mw-headline\" id=\"Cambridge\">Cambridge</span></h3>"
            ]
          },
          "metadata": {
            "tags": []
          },
          "execution_count": 17
        }
      ]
    },
    {
      "cell_type": "code",
      "metadata": {
        "id": "uejNz1WSvcaX",
        "colab_type": "code",
        "colab": {}
      },
      "source": [
        "6 Convert the soup object created in the assignment to a string format and assign it to a new variable named soup_s.\n",
        " Now apply the method .split() on this string(soup_s) and store it in variable ls. What is the value of ls[10]? \n",
        "\n",
        "'University'\n",
        "'Julian–Gregorian'\n",
        "'short'\n",
        "'semi-protected'\n",
        "#university"
      ],
      "execution_count": 0,
      "outputs": []
    },
    {
      "cell_type": "code",
      "metadata": {
        "id": "IjF5RZ6TvcZO",
        "colab_type": "code",
        "outputId": "9448ec8b-c6f1-47c0-bb63-946864aaf573",
        "colab": {
          "base_uri": "https://localhost:8080/",
          "height": 34
        }
      },
      "source": [
        "soup_s=str(soup)\n",
        "ls=str(soup_s).split()\n",
        "ls[10]"
      ],
      "execution_count": 0,
      "outputs": [
        {
          "output_type": "execute_result",
          "data": {
            "text/plain": [
              "'University'"
            ]
          },
          "metadata": {
            "tags": []
          },
          "execution_count": 18
        }
      ]
    },
    {
      "cell_type": "code",
      "metadata": {
        "id": "16DW3zAB00fE",
        "colab_type": "code",
        "colab": {}
      },
      "source": [
        "7 What is the value of ls[50]? (Refer to the last question for instructions on how to create ls) *\n",
        "\n",
        "'the'\n",
        "'against'\n",
        "'in'\n",
        "'500,000+'\n",
        "#against"
      ],
      "execution_count": 0,
      "outputs": []
    },
    {
      "cell_type": "code",
      "metadata": {
        "id": "SuuNopHn00ik",
        "colab_type": "code",
        "outputId": "8e1ac4e7-4967-45ae-dfc9-2ec97db7ba1c",
        "colab": {
          "base_uri": "https://localhost:8080/",
          "height": 34
        }
      },
      "source": [
        "soup_s=str(soup)\n",
        "ls=str(soup_s).split()\n",
        "ls[50]"
      ],
      "execution_count": 0,
      "outputs": [
        {
          "output_type": "execute_result",
          "data": {
            "text/plain": [
              "'against'"
            ]
          },
          "metadata": {
            "tags": []
          },
          "execution_count": 19
        }
      ]
    },
    {
      "cell_type": "code",
      "metadata": {
        "id": "MGlsy9Vj00mT",
        "colab_type": "code",
        "colab": {}
      },
      "source": [
        ""
      ],
      "execution_count": 0,
      "outputs": []
    },
    {
      "cell_type": "code",
      "metadata": {
        "id": "UoY1tU0800q0",
        "colab_type": "code",
        "colab": {}
      },
      "source": [
        ""
      ],
      "execution_count": 0,
      "outputs": []
    },
    {
      "cell_type": "code",
      "metadata": {
        "id": "QoSX7Y2s00o-",
        "colab_type": "code",
        "colab": {}
      },
      "source": [
        ""
      ],
      "execution_count": 0,
      "outputs": []
    },
    {
      "cell_type": "code",
      "metadata": {
        "id": "XdOY-dfe00k3",
        "colab_type": "code",
        "colab": {}
      },
      "source": [
        ""
      ],
      "execution_count": 0,
      "outputs": []
    }
  ]
}